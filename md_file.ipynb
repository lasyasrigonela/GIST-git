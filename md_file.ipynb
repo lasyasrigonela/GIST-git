{
 "cells": [
  {
   "cell_type": "markdown",
   "metadata": {},
   "source": [
    "# Title\n",
    "## Sub Titles\n",
    "### Headings\n",
    "#### Sub Headings\n",
    "#### shift+enter(executed or run cell)-if we press this new shell will get created if we have another shell below this shell then it selects next shell that present below it\n",
    "#### ctrl+enter(executed or run cell) it just gives the output at that place"
   ]
  },
  {
   "cell_type": "markdown",
   "metadata": {},
   "source": [
    "# Title\n",
    "## Sub Titles\n",
    "### Headings\n",
    "#### Sub Headings\n",
    "#### shift+enter(executed or run cell)-if we press this new shell will get created if we have another shell below this shell then it selects next shell that present below it\n",
    "#### ctrl+enter(executed or run cell) it just gives the output at that place"
   ]
  },
  {
   "cell_type": "markdown",
   "metadata": {},
   "source": [
    "#### order list and unorder list\n",
    "- outdoor games\n",
    "  1.cricket\n",
    "  2.foot ball\n",
    "  3.tennis\n",
    "  4.hockey\n",
    "- indoor games\n",
    "  1.snake & ladders\n",
    "  2.Ludo\n",
    "  "
   ]
  },
  {
   "cell_type": "markdown",
   "metadata": {},
   "source": [
    "#### How to place horizontal lines in markdown\n",
    "\n",
    "***\n",
    "   1. git\n",
    "   2. python\n",
    "   3. numpy\n",
    "   4. pandas\n",
    "   5. matplot lib\n",
    "   6. seaborn\n",
    "***\n",
    "#### space should give after the number"
   ]
  },
  {
   "cell_type": "markdown",
   "metadata": {},
   "source": [
    "#### text will convert into italic and bold using markdown\n",
    "\n",
    "- normal text\n",
    "- *italic text*\n",
    "- **bold text**\n",
    "- this is *italic* and **bold**"
   ]
  },
  {
   "cell_type": "markdown",
   "metadata": {},
   "source": [
    "#### How to add hyper links using markdown \n",
    "- [GOOLE](https://www.google.com)\n",
    "- [FACEBOOK](https://www.facebook.com)\n",
    "- [APSSDC](https://www.apssdc.in)"
   ]
  },
  {
   "cell_type": "markdown",
   "metadata": {},
   "source": [
    "#### How to get images using markdown\n",
    "- ![IMAGE](FRUIT.jpg)"
   ]
  },
  {
   "cell_type": "markdown",
   "metadata": {},
   "source": [
    "#### How to get images using markdown\n",
    "- ![IMAGE](https://www.unlockfood.ca/EatRightOntario/media/Website-images-resized/How-to-store-fruit-to-keep-it-fresh-resized.jpg)"
   ]
  },
  {
   "cell_type": "markdown",
   "metadata": {},
   "source": [
    "#### How to highlight particular lines using markdown\n",
    "- Here we write the python program\n",
    "- Markdown is used for writing digital documentation\n",
    "`\n",
    "a=int(input())\n",
    "if a%2==0:\n",
    "    print(a, 'is even number')\n",
    "else:\n",
    "    print(a, 'is odd number')\n",
    "`\n",
    "- Above backward quotations are defined to highlight the text backward quotations are present above left side of tab button"
   ]
  },
  {
   "cell_type": "markdown",
   "metadata": {},
   "source": [
    "#### How to highlight particular lines using markdown\n",
    "- Here we write the python program\n",
    "- Markdown is used for writing digital documentation\n",
    "```python\n",
    "a=int(input())\n",
    "if a%2==0:\n",
    "    print(a, 'is even number')\n",
    "else:\n",
    "    print(a, 'is odd number')\n",
    "```"
   ]
  },
  {
   "cell_type": "code",
   "execution_count": null,
   "metadata": {},
   "outputs": [],
   "source": []
  }
 ],
 "metadata": {
  "kernelspec": {
   "display_name": "Python 3",
   "language": "python",
   "name": "python3"
  },
  "language_info": {
   "codemirror_mode": {
    "name": "ipython",
    "version": 3
   },
   "file_extension": ".py",
   "mimetype": "text/x-python",
   "name": "python",
   "nbconvert_exporter": "python",
   "pygments_lexer": "ipython3",
   "version": "3.8.5"
  }
 },
 "nbformat": 4,
 "nbformat_minor": 4
}
